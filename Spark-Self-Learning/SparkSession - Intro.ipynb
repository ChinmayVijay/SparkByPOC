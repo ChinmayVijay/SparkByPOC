{
 "cells": [
  {
   "cell_type": "code",
   "execution_count": 1,
   "metadata": {},
   "outputs": [],
   "source": [
    "import findspark"
   ]
  },
  {
   "cell_type": "code",
   "execution_count": 2,
   "metadata": {},
   "outputs": [],
   "source": [
    "findspark.init()"
   ]
  },
  {
   "cell_type": "code",
   "execution_count": 3,
   "metadata": {},
   "outputs": [],
   "source": [
    "from pyspark.sql import SparkSession"
   ]
  },
  {
   "cell_type": "code",
   "execution_count": 4,
   "metadata": {},
   "outputs": [],
   "source": [
    "sparkSession = SparkSession.builder.appName('SSBasics').getOrCreate()"
   ]
  },
  {
   "cell_type": "markdown",
   "metadata": {},
   "source": [
    "### Spark Read CSV File into DataFrame"
   ]
  },
  {
   "cell_type": "markdown",
   "metadata": {},
   "source": [
    "Link: https://sparkbyexamples.com/spark/spark-read-csv-file-into-dataframe/"
   ]
  },
  {
   "cell_type": "code",
   "execution_count": 10,
   "metadata": {},
   "outputs": [],
   "source": [
    "rbiDF = sparkSession.read.csv('rbi_2019.csv', header=True)"
   ]
  },
  {
   "cell_type": "code",
   "execution_count": 11,
   "metadata": {},
   "outputs": [
    {
     "data": {
      "text/plain": [
       "['month',\n",
       " 'year',\n",
       " 'month_number',\n",
       " 'start_date',\n",
       " 'end_date',\n",
       " 'bank_name',\n",
       " 'no_atms_on_site',\n",
       " 'no_atms_off_site',\n",
       " 'no_pos_on_line',\n",
       " 'no_pos_off_line',\n",
       " 'no_credit_cards',\n",
       " 'no_credit_card_atm_txn',\n",
       " 'no_credit_card_pos_txn',\n",
       " 'no_credit_card_atm_txn_value_in_mn',\n",
       " 'no_credit_card_pos_txn_value_in_mn',\n",
       " 'no_debit_cards',\n",
       " 'no_debit_card_atm_txn',\n",
       " 'no_debit_card_pos_txn',\n",
       " 'no_debit_card_atm_txn_value_in_mn',\n",
       " 'no_debit_card_pos_txn_value_in_mn']"
      ]
     },
     "execution_count": 11,
     "metadata": {},
     "output_type": "execute_result"
    }
   ],
   "source": [
    "rbiDF.columns"
   ]
  },
  {
   "cell_type": "code",
   "execution_count": 12,
   "metadata": {},
   "outputs": [
    {
     "name": "stdout",
     "output_type": "stream",
     "text": [
      "+--------+----+--------------------+\n",
      "|   month|year|           bank_name|\n",
      "+--------+----+--------------------+\n",
      "|November|2011|      Allahabad Bank|\n",
      "|November|2011|         Andhra Bank|\n",
      "|November|2011|      Bank of Baroda|\n",
      "|November|2011|       Bank of India|\n",
      "|November|2011| Bank of Maharashtra|\n",
      "|November|2011|         Canara Bank|\n",
      "|November|2011|Central Bank of I...|\n",
      "|November|2011|    Corporation Bank|\n",
      "|November|2011|           Dena Bank|\n",
      "|November|2011|         Indian Bank|\n",
      "|November|2011|Indian Overseas Bank|\n",
      "|November|2011|Oriental Bank of ...|\n",
      "|November|2011|Punjab and Sind Bank|\n",
      "|November|2011|Punjab National Bank|\n",
      "|November|2011|     Syndicate  Bank|\n",
      "|November|2011|            UCO Bank|\n",
      "|November|2011|Union  Bank of India|\n",
      "|November|2011|United  Bank of I...|\n",
      "|November|2011|        Vijaya  Bank|\n",
      "|November|2011| State Bank of India|\n",
      "+--------+----+--------------------+\n",
      "only showing top 20 rows\n",
      "\n"
     ]
    }
   ],
   "source": [
    "rbiDF.select('month','year', 'bank_name').show()"
   ]
  },
  {
   "cell_type": "code",
   "execution_count": null,
   "metadata": {},
   "outputs": [],
   "source": [
    "rbiDF.select"
   ]
  }
 ],
 "metadata": {
  "kernelspec": {
   "display_name": "Python 3",
   "language": "python",
   "name": "python3"
  },
  "language_info": {
   "codemirror_mode": {
    "name": "ipython",
    "version": 3
   },
   "file_extension": ".py",
   "mimetype": "text/x-python",
   "name": "python",
   "nbconvert_exporter": "python",
   "pygments_lexer": "ipython3",
   "version": "3.7.0"
  }
 },
 "nbformat": 4,
 "nbformat_minor": 2
}
